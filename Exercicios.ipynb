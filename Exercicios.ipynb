{
 "cells": [
  {
   "cell_type": "markdown",
   "id": "c1c822a3",
   "metadata": {},
   "source": [
    "🧠 Exercício 1 – Extração de dados básicos de Pokémon\n",
    "Objetivo: Extrair os nomes e IDs dos 50 primeiros Pokémon.\n",
    "\n",
    "Tarefa:\n",
    "\n",
    "1 - Faça requisições para https://pokeapi.co/api/v2/pokemon?limit=50\n",
    "\n",
    "2 - Extraia:\n",
    "\n",
    "    name\n",
    "\n",
    "    url\n",
    "\n",
    "    O id do Pokémon (pode ser extraído da URL ou de uma nova chamada)\n",
    "\n",
    "3 - Salve o resultado em um DataFrame."
   ]
  },
  {
   "cell_type": "code",
   "execution_count": 63,
   "id": "7367c532",
   "metadata": {},
   "outputs": [],
   "source": [
    "import requests\n",
    "import pandas as pd"
   ]
  },
  {
   "cell_type": "code",
   "execution_count": 60,
   "id": "44b8768c",
   "metadata": {},
   "outputs": [],
   "source": [
    "url = 'https://pokeapi.co/api/v2/pokemon?limit=50'\n",
    "\n",
    "response = requests.get(url)\n",
    "\n",
    "data = response.json()\n"
   ]
  },
  {
   "cell_type": "code",
   "execution_count": 61,
   "id": "bf1e8434",
   "metadata": {},
   "outputs": [],
   "source": [
    "results = data['results']"
   ]
  },
  {
   "cell_type": "code",
   "execution_count": 62,
   "id": "7456dead",
   "metadata": {},
   "outputs": [
    {
     "name": "stdout",
     "output_type": "stream",
     "text": [
      "nomes: ['bulbasaur', 'ivysaur', 'venusaur', 'charmander', 'charmeleon']\n",
      "urls: ['https://pokeapi.co/api/v2/pokemon/1/', 'https://pokeapi.co/api/v2/pokemon/2/', 'https://pokeapi.co/api/v2/pokemon/3/', 'https://pokeapi.co/api/v2/pokemon/4/', 'https://pokeapi.co/api/v2/pokemon/5/']\n",
      "ids: [1, 2, 3, 4, 5]\n"
     ]
    }
   ],
   "source": [
    "nomes = []\n",
    "urls = []\n",
    "ids = []\n",
    "\n",
    "for pokemon in results:\n",
    "    nomes.append(pokemon['name'])\n",
    "    urls.append(pokemon['url'])\n",
    "\n",
    "for url in urls:\n",
    "    parts = url.strip('/').split('/')\n",
    "    pokemon_id = parts[-1]\n",
    "    ids.append(int(pokemon_id))\n",
    "\n",
    "print(\"nomes:\", nomes[:5])\n",
    "print(\"urls:\", urls[:5])\n",
    "print('ids:', ids[:5] )"
   ]
  },
  {
   "cell_type": "code",
   "execution_count": 64,
   "id": "7c9d926d",
   "metadata": {},
   "outputs": [
    {
     "name": "stdout",
     "output_type": "stream",
     "text": [
      "    id        nome                                    url\n",
      "0    1   bulbasaur   https://pokeapi.co/api/v2/pokemon/1/\n",
      "1    2     ivysaur   https://pokeapi.co/api/v2/pokemon/2/\n",
      "2    3    venusaur   https://pokeapi.co/api/v2/pokemon/3/\n",
      "3    4  charmander   https://pokeapi.co/api/v2/pokemon/4/\n",
      "4    5  charmeleon   https://pokeapi.co/api/v2/pokemon/5/\n",
      "5    6   charizard   https://pokeapi.co/api/v2/pokemon/6/\n",
      "6    7    squirtle   https://pokeapi.co/api/v2/pokemon/7/\n",
      "7    8   wartortle   https://pokeapi.co/api/v2/pokemon/8/\n",
      "8    9   blastoise   https://pokeapi.co/api/v2/pokemon/9/\n",
      "9   10    caterpie  https://pokeapi.co/api/v2/pokemon/10/\n",
      "10  11     metapod  https://pokeapi.co/api/v2/pokemon/11/\n",
      "11  12  butterfree  https://pokeapi.co/api/v2/pokemon/12/\n",
      "12  13      weedle  https://pokeapi.co/api/v2/pokemon/13/\n",
      "13  14      kakuna  https://pokeapi.co/api/v2/pokemon/14/\n",
      "14  15    beedrill  https://pokeapi.co/api/v2/pokemon/15/\n",
      "15  16      pidgey  https://pokeapi.co/api/v2/pokemon/16/\n",
      "16  17   pidgeotto  https://pokeapi.co/api/v2/pokemon/17/\n",
      "17  18     pidgeot  https://pokeapi.co/api/v2/pokemon/18/\n",
      "18  19     rattata  https://pokeapi.co/api/v2/pokemon/19/\n",
      "19  20    raticate  https://pokeapi.co/api/v2/pokemon/20/\n",
      "20  21     spearow  https://pokeapi.co/api/v2/pokemon/21/\n",
      "21  22      fearow  https://pokeapi.co/api/v2/pokemon/22/\n",
      "22  23       ekans  https://pokeapi.co/api/v2/pokemon/23/\n",
      "23  24       arbok  https://pokeapi.co/api/v2/pokemon/24/\n",
      "24  25     pikachu  https://pokeapi.co/api/v2/pokemon/25/\n",
      "25  26      raichu  https://pokeapi.co/api/v2/pokemon/26/\n",
      "26  27   sandshrew  https://pokeapi.co/api/v2/pokemon/27/\n",
      "27  28   sandslash  https://pokeapi.co/api/v2/pokemon/28/\n",
      "28  29   nidoran-f  https://pokeapi.co/api/v2/pokemon/29/\n",
      "29  30    nidorina  https://pokeapi.co/api/v2/pokemon/30/\n",
      "30  31   nidoqueen  https://pokeapi.co/api/v2/pokemon/31/\n",
      "31  32   nidoran-m  https://pokeapi.co/api/v2/pokemon/32/\n",
      "32  33    nidorino  https://pokeapi.co/api/v2/pokemon/33/\n",
      "33  34    nidoking  https://pokeapi.co/api/v2/pokemon/34/\n",
      "34  35    clefairy  https://pokeapi.co/api/v2/pokemon/35/\n",
      "35  36    clefable  https://pokeapi.co/api/v2/pokemon/36/\n",
      "36  37      vulpix  https://pokeapi.co/api/v2/pokemon/37/\n",
      "37  38   ninetales  https://pokeapi.co/api/v2/pokemon/38/\n",
      "38  39  jigglypuff  https://pokeapi.co/api/v2/pokemon/39/\n",
      "39  40  wigglytuff  https://pokeapi.co/api/v2/pokemon/40/\n",
      "40  41       zubat  https://pokeapi.co/api/v2/pokemon/41/\n",
      "41  42      golbat  https://pokeapi.co/api/v2/pokemon/42/\n",
      "42  43      oddish  https://pokeapi.co/api/v2/pokemon/43/\n",
      "43  44       gloom  https://pokeapi.co/api/v2/pokemon/44/\n",
      "44  45   vileplume  https://pokeapi.co/api/v2/pokemon/45/\n",
      "45  46       paras  https://pokeapi.co/api/v2/pokemon/46/\n",
      "46  47    parasect  https://pokeapi.co/api/v2/pokemon/47/\n",
      "47  48     venonat  https://pokeapi.co/api/v2/pokemon/48/\n",
      "48  49    venomoth  https://pokeapi.co/api/v2/pokemon/49/\n",
      "49  50     diglett  https://pokeapi.co/api/v2/pokemon/50/\n"
     ]
    }
   ],
   "source": [
    "df = pd.DataFrame({\n",
    "    'id': ids,\n",
    "    'nome': nomes,\n",
    "    'url': urls\n",
    "})\n",
    "\n",
    "print(df)"
   ]
  },
  {
   "cell_type": "code",
   "execution_count": null,
   "id": "02a6d799",
   "metadata": {},
   "outputs": [],
   "source": []
  }
 ],
 "metadata": {
  "kernelspec": {
   "display_name": "base",
   "language": "python",
   "name": "python3"
  },
  "language_info": {
   "codemirror_mode": {
    "name": "ipython",
    "version": 3
   },
   "file_extension": ".py",
   "mimetype": "text/x-python",
   "name": "python",
   "nbconvert_exporter": "python",
   "pygments_lexer": "ipython3",
   "version": "3.10.9"
  }
 },
 "nbformat": 4,
 "nbformat_minor": 5
}
